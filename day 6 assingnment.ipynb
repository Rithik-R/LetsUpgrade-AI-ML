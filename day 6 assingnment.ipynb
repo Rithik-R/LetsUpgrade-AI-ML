{
 "cells": [
  {
   "cell_type": "markdown",
   "metadata": {},
   "source": [
    "## Question 1: Assuming that we have some email addresses in the \"username@companyname.com\" format, please write program to print the company name of a given email address. Both user names and company names are composed of letters only.¶"
   ]
  },
  {
   "cell_type": "code",
   "execution_count": 1,
   "metadata": {},
   "outputs": [
    {
     "name": "stdout",
     "output_type": "stream",
     "text": [
      "Company Name from rithik@infosys.com : infosys\n"
     ]
    }
   ],
   "source": [
    "mail_id = 'rithik@infosys.com'\n",
    "\n",
    "for k in range(len(mail_id)):\n",
    "    if mail_id[k] == '@':\n",
    "        company_name = mail_id[k+1 : mail_id.index('.')]\n",
    "        print(f'Company Name from {mail_id} : {company_name}')"
   ]
  },
  {
   "cell_type": "markdown",
   "metadata": {},
   "source": [
    "## Question 2: Write a program that accepts a comma-separated sequence of words as input and prints the words in a comma separated sequence after sorting them alphabetically"
   ]
  },
  {
   "cell_type": "code",
   "execution_count": 2,
   "metadata": {
    "scrolled": true
   },
   "outputs": [
    {
     "name": "stdout",
     "output_type": "stream",
     "text": [
      "enter words separate by comma (,) : rithik,ragu,venu,yasodha\n",
      "Alphabetic order words : ['ragu', 'rithik', 'venu', 'yasodha']\n"
     ]
    }
   ],
   "source": [
    "words = input(\"enter words separate by comma (,) : \").split(',')\n",
    "sort_words = sorted(words)\n",
    "print(f'Alphabetic order words : {sort_words}')"
   ]
  },
  {
   "cell_type": "markdown",
   "metadata": {},
   "source": [
    "## Question 4: Given a list of n-1 numbers ranging from 1 to n, your task is to find the missing number. There are no duplicates.\n"
   ]
  },
  {
   "cell_type": "code",
   "execution_count": null,
   "metadata": {},
   "outputs": [],
   "source": [
    "numbers = input(\"Enter Numbers with a range(1-n) Separate by Space (No Duplicates) : \").split(' ')\n",
    "n_list = []\n",
    "for n in numbers: # loop for converting each element into int\n",
    "    n_list.append(int(n))\n",
    "n_list.sort() # To sort numbers in accending\n",
    "print(f'List of Numbers : {n_list}')\n",
    "\n",
    "counter = 1\n",
    "\n",
    "for num in n_list:\n",
    "    if counter == num:\n",
    "        counter+=1\n",
    "    else:\n",
    "        print(f'Missing Number  : {counter}')\n",
    "        counter+=2"
   ]
  },
  {
   "cell_type": "markdown",
   "metadata": {},
   "source": [
    "Enter Numbers with a range(1-n) Separate by Space (No Duplicates) : 1 3 5 7 9 10 12 2 4 6 8 13 11 15 14 17 18\n",
    "List of Numbers : [1, 2, 3, 4, 5, 6, 7, 8, 9, 10, 11, 12, 13, 14, 15, 17, 18]\n",
    "Missing Number  : 16"
   ]
  },
  {
   "cell_type": "markdown",
   "metadata": {},
   "source": [
    "## Question 5:With a given list L, write a program to print this list L after removing all duplicate values with original order reserved"
   ]
  },
  {
   "cell_type": "code",
   "execution_count": null,
   "metadata": {},
   "outputs": [],
   "source": [
    "numbers = input(\"Enter Numbers Separate by Space : \").split(' ')\n",
    "n_list = []\n",
    "for n in numbers: # loop for converting each element into int\n",
    "    n_list.append(int(n))\n",
    "n_list.sort() # To sort numbers in accending\n",
    "print(f'List of Numbers : {n_list}')\n",
    "\n",
    "print(f'Without Duplicate Numbers : {list(dict.fromkeys(n_list))} ')\n"
   ]
  },
  {
   "cell_type": "markdown",
   "metadata": {},
   "source": [
    "Enter Numbers Separate by Space : 9 2 1 3 4 12 124 12 124 9 910\n",
    "List of Numbers : [1, 2, 3, 4, 9, 9, 12, 12, 124, 124, 910]\n",
    "Without Duplicate Numbers : [1, 2, 3, 4, 9, 12, 124, 910] "
   ]
  },
  {
   "cell_type": "markdown",
   "metadata": {},
   "source": [
    "## Question 3:Create your own Jupyter Notebook for Sets"
   ]
  },
  {
   "cell_type": "code",
   "execution_count": null,
   "metadata": {},
   "outputs": [],
   "source": [
    "ex_set = {\"laptop\",'Mobile','Computer'}\n",
    "print(ex_set)"
   ]
  },
  {
   "cell_type": "markdown",
   "metadata": {},
   "source": [
    "{'Computer', 'Mobile', 'laptop'}\n"
   ]
  },
  {
   "cell_type": "code",
   "execution_count": null,
   "metadata": {},
   "outputs": [],
   "source": [
    "for item in ex_set:\n",
    "    print(item)"
   ]
  },
  {
   "cell_type": "markdown",
   "metadata": {},
   "source": [
    "Computer\n",
    "Mobile\n",
    "laptop"
   ]
  },
  {
   "cell_type": "code",
   "execution_count": null,
   "metadata": {},
   "outputs": [],
   "source": [
    "'ipad' in ex_set"
   ]
  },
  {
   "cell_type": "markdown",
   "metadata": {},
   "source": [
    "False"
   ]
  }
 ],
 "metadata": {
  "kernelspec": {
   "display_name": "Python 3",
   "language": "python",
   "name": "python3"
  },
  "language_info": {
   "codemirror_mode": {
    "name": "ipython",
    "version": 3
   },
   "file_extension": ".py",
   "mimetype": "text/x-python",
   "name": "python",
   "nbconvert_exporter": "python",
   "pygments_lexer": "ipython3",
   "version": "3.7.6"
  }
 },
 "nbformat": 4,
 "nbformat_minor": 4
}
