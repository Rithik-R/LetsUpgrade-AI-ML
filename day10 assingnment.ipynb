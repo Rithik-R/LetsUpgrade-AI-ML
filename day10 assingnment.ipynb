{
 "cells": [
  {
   "cell_type": "markdown",
   "metadata": {},
   "source": [
    "## Hypothesis statements\n",
    "1.if i submit the assignments earlier i will be on leaderboard\n",
    "\n",
    "2.There is no smoke without fire\n",
    "\n",
    "3.Drinking sugary drinks daily leads to obesity.\n",
    "\n",
    "4.My health may improves when i eat fruits rather than junk foods\n",
    "\n",
    "5.Chocolate may cause pimples\n",
    "\n",
    "6.Temperature may cause leaves to change color\n",
    "\n",
    "7.Bacterial growth may be affected by temperature\n",
    "\n",
    "8.Attrition in a company may not affect workers\n",
    "\n",
    "9.Intake of drugs may cause ill\n",
    "\n",
    "10.Men love bikes more than women"
   ]
  }
 ],
 "metadata": {
  "kernelspec": {
   "display_name": "Python 3",
   "language": "python",
   "name": "python3"
  },
  "language_info": {
   "codemirror_mode": {
    "name": "ipython",
    "version": 3
   },
   "file_extension": ".py",
   "mimetype": "text/x-python",
   "name": "python",
   "nbconvert_exporter": "python",
   "pygments_lexer": "ipython3",
   "version": "3.7.6"
  }
 },
 "nbformat": 4,
 "nbformat_minor": 4
}
