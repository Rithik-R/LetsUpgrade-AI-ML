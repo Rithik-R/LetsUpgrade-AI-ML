{
 "cells": [
  {
   "cell_type": "markdown",
   "metadata": {},
   "source": [
    "## question:1\n"
   ]
  },
  {
   "cell_type": "code",
   "execution_count": 1,
   "metadata": {},
   "outputs": [
    {
     "name": "stdout",
     "output_type": "stream",
     "text": [
      "[3, 5, 7, 11, 13, 17, 19, 23, 29, 31, 37, 41, 43, 47, 53, 59, 61, 67, 71, 73]\n"
     ]
    }
   ],
   "source": [
    "non_even_prime = []\n",
    "for num in range(2, 100):\n",
    "    for i in range(2, num):\n",
    "        if (num % i) == 0:\n",
    "            break\n",
    "    else:\n",
    "        if len(non_even_prime) == 20:\n",
    "            break\n",
    "        else:\n",
    "            if num % 2 !=0:\n",
    "                non_even_prime.append(num)\n",
    "print(non_even_prime)"
   ]
  },
  {
   "cell_type": "markdown",
   "metadata": {},
   "source": [
    "## question:2"
   ]
  },
  {
   "cell_type": "code",
   "execution_count": 2,
   "metadata": {},
   "outputs": [
    {
     "data": {
      "text/plain": [
       "'Helloo Rowdy'"
      ]
     },
     "execution_count": 2,
     "metadata": {},
     "output_type": "execute_result"
    }
   ],
   "source": [
    "from IPython.core.interactiveshell import InteractiveShell\n",
    "InteractiveShell.ast_node_interactivity = \"all\"\n",
    "\n",
    "s = \"LetsUpgrade\"\n",
    "\n",
    "s.upper()\n",
    "s.swapcase()\n",
    "s.lower()\n",
    "s.count('e')\n",
    "s.casefold()\n",
    "s.endswith('d')\n",
    "s.isalnum()\n",
    "s.find('s')\n",
    "s.isalpha()\n",
    "' '.join(s)\n",
    "s.isupper()\n",
    "s.islower()\n",
    "s.index('t')\n",
    "s.isdigit()\n",
    "s.replace('LetsUpgrade',\"Helloo Rowdy\")"
   ]
  },
  {
   "cell_type": "markdown",
   "metadata": {},
   "source": [
    "## question:3"
   ]
  },
  {
   "cell_type": "code",
   "execution_count": 4,
   "metadata": {},
   "outputs": [
    {
     "name": "stdout",
     "output_type": "stream",
     "text": [
      "Redefining and definingRe is Anagram\n"
     ]
    }
   ],
   "source": [
    "from collections import Counter\n",
    "\n",
    "string1 = \"Redefining\"\n",
    "string2 = \"definingRe\"\n",
    "\n",
    "# Polindrome - string1\n",
    "# Anagram needs two strings\n",
    "rev = string1[::-1]\n",
    "\n",
    "if string1 == rev:\n",
    "    print(string1, \"is Polindrome\")\n",
    "elif Counter(string1) == Counter(string2):\n",
    "    print(string1,'and',string2 ,'is Anagram')\n",
    "else:\n",
    "    print('None of them')"
   ]
  },
  {
   "cell_type": "markdown",
   "metadata": {},
   "source": [
    "## question:4"
   ]
  },
  {
   "cell_type": "code",
   "execution_count": 5,
   "metadata": {},
   "outputs": [
    {
     "name": "stdout",
     "output_type": "stream",
     "text": [
      "day 5 assignment letsupgrade\n"
     ]
    }
   ],
   "source": [
    "import re\n",
    "def remspchar(s):\n",
    "    final = (re.sub('[!@#$-._+#]',' ',s)).lower()\n",
    "    print(final)\n",
    "s = \"Day_5@Assignment-LetsUpgrade\"\n",
    "remspchar(s)"
   ]
  },
  {
   "cell_type": "code",
   "execution_count": null,
   "metadata": {},
   "outputs": [],
   "source": []
  }
 ],
 "metadata": {
  "kernelspec": {
   "display_name": "Python 3",
   "language": "python",
   "name": "python3"
  },
  "language_info": {
   "codemirror_mode": {
    "name": "ipython",
    "version": 3
   },
   "file_extension": ".py",
   "mimetype": "text/x-python",
   "name": "python",
   "nbconvert_exporter": "python",
   "pygments_lexer": "ipython3",
   "version": "3.7.6"
  }
 },
 "nbformat": 4,
 "nbformat_minor": 4
}
