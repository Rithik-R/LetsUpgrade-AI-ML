{
 "cells": [
  {
   "cell_type": "code",
   "execution_count": 1,
   "metadata": {},
   "outputs": [],
   "source": [
    "import numpy as np\n",
    "import pandas as pd"
   ]
  },
  {
   "cell_type": "markdown",
   "metadata": {},
   "source": [
    "## create a 3*3*3 array with random values"
   ]
  },
  {
   "cell_type": "code",
   "execution_count": 8,
   "metadata": {},
   "outputs": [
    {
     "data": {
      "text/plain": [
       "array([[[ 92,  47, 174],\n",
       "        [ 53, 159,  26],\n",
       "        [166, 104, 154]],\n",
       "\n",
       "       [[  8,  57, 127],\n",
       "        [ 78, 125, 160],\n",
       "        [187,  32,  82]],\n",
       "\n",
       "       [[ 37, 182,  92],\n",
       "        [190, 143,  56],\n",
       "        [186, 148, 116]]])"
      ]
     },
     "execution_count": 8,
     "metadata": {},
     "output_type": "execute_result"
    }
   ],
   "source": [
    "np.random.randint(200,size=(3,3,3))"
   ]
  },
  {
   "cell_type": "markdown",
   "metadata": {},
   "source": [
    "## create 5*5 matrix with values 1,2,3,4 just below the diagonal"
   ]
  },
  {
   "cell_type": "code",
   "execution_count": 9,
   "metadata": {},
   "outputs": [
    {
     "data": {
      "text/plain": [
       "array([[0, 0, 0, 0, 0],\n",
       "       [2, 0, 0, 0, 0],\n",
       "       [2, 1, 0, 0, 0],\n",
       "       [1, 3, 2, 0, 0],\n",
       "       [4, 4, 3, 1, 0]])"
      ]
     },
     "execution_count": 9,
     "metadata": {},
     "output_type": "execute_result"
    }
   ],
   "source": [
    "mat = np.random.randint(low=1,high=5,size=(5,5))\n",
    "lower_mat = np.tril(mat,k=-1)\n",
    "lower_mat"
   ]
  },
  {
   "cell_type": "markdown",
   "metadata": {},
   "source": [
    "## create 8*8 matrix and fill it with a check board pattern"
   ]
  },
  {
   "cell_type": "code",
   "execution_count": 23,
   "metadata": {},
   "outputs": [
    {
     "data": {
      "text/plain": [
       "array([[0, 1, 0, 1, 0, 1, 0, 1],\n",
       "       [1, 0, 1, 0, 1, 0, 1, 0],\n",
       "       [0, 1, 0, 1, 0, 1, 0, 1],\n",
       "       [1, 0, 1, 0, 1, 0, 1, 0],\n",
       "       [0, 1, 0, 1, 0, 1, 0, 1],\n",
       "       [1, 0, 1, 0, 1, 0, 1, 0],\n",
       "       [0, 1, 0, 1, 0, 1, 0, 1],\n",
       "       [1, 0, 1, 0, 1, 0, 1, 0]])"
      ]
     },
     "execution_count": 23,
     "metadata": {},
     "output_type": "execute_result"
    }
   ],
   "source": [
    "zeros = np.zeros((8,8),dtype=int)\n",
    "zeros[1::2,::2] = 1 \n",
    "zeros[::2,1::2] = 1\n",
    "zeros"
   ]
  },
  {
   "cell_type": "markdown",
   "metadata": {},
   "source": [
    "## normalize a 5*5 random matrix"
   ]
  },
  {
   "cell_type": "code",
   "execution_count": 29,
   "metadata": {},
   "outputs": [
    {
     "name": "stdout",
     "output_type": "stream",
     "text": [
      "Before Normalize \n",
      "[[0.724638   0.24479395 0.72032195 0.1213317  0.46874671]\n",
      " [0.99000425 0.34116279 0.94944313 0.77280776 0.82892136]\n",
      " [0.02444033 0.32246865 0.39270883 0.24772004 0.38613002]\n",
      " [0.49577648 0.6274368  0.27975526 0.13369288 0.49827524]\n",
      " [0.34231287 0.15051845 0.29938478 0.88594927 0.48873457]]\n",
      "After Normalize:\n",
      "[[0.72516968 0.22821237 0.72069969 0.10034693 0.46015223]\n",
      " [1.         0.32801813 0.9579923  0.77505737 0.83317222]\n",
      " [0.         0.30865727 0.38140251 0.23124281 0.37458907]\n",
      " [0.48814598 0.62450186 0.26442054 0.11314896 0.49073387]\n",
      " [0.32920922 0.13057461 0.28475013 0.89223399 0.48085293]]\n"
     ]
    }
   ],
   "source": [
    "mt = np.random.random(size=(5,5))\n",
    "print(\"Before Normalize \")\n",
    "print(mt)\n",
    "\n",
    "print('After Normalize:')\n",
    "mt_min, mt_max = mt.min(), mt.max()\n",
    "\n",
    "mt = (mt - mt_min)/(mt_max - mt_min)\n",
    "print(mt)"
   ]
  },
  {
   "cell_type": "markdown",
   "metadata": {},
   "source": [
    "## how to find common values between two arrays"
   ]
  },
  {
   "cell_type": "code",
   "execution_count": 12,
   "metadata": {},
   "outputs": [
    {
     "name": "stdout",
     "output_type": "stream",
     "text": [
      "Matrix :A [3 7 6 7 7 4 8 4 7 1]\n",
      "Matrix :B [6 5 4 3 9 7 0 5 2 4]\n",
      "Common values: [3 4 6 7]\n"
     ]
    }
   ],
   "source": [
    "a = np.random.randint(10,size=(10))\n",
    "b = np.random.randint(10,size=(10))\n",
    "print('Matrix :A',a)\n",
    "print('Matrix :B',b)\n",
    "print('Common values:',np.intersect1d(a,b))"
   ]
  },
  {
   "cell_type": "markdown",
   "metadata": {},
   "source": [
    "## how to get the dates of yesterday,today and tommorow"
   ]
  },
  {
   "cell_type": "code",
   "execution_count": 13,
   "metadata": {},
   "outputs": [
    {
     "name": "stdout",
     "output_type": "stream",
     "text": [
      "Yestraday:  2020-07-25\n",
      "Today    :  2020-07-26\n",
      "Tomorrow :  2020-07-27\n"
     ]
    }
   ],
   "source": [
    "import numpy as np\n",
    "yesterday_date = np.datetime64('today', 'D') - np.timedelta64(1, 'D')\n",
    "print(\"Yestraday: \",yesterday_date)\n",
    "today_date = np.datetime64('today', 'D')\n",
    "print(\"Today    : \",today_date)\n",
    "tomorrow_date = np.datetime64('today', 'D') + np.timedelta64(1, 'D')\n",
    "print(\"Tomorrow : \",tomorrow_date)"
   ]
  },
  {
   "cell_type": "markdown",
   "metadata": {},
   "source": [
    "## consider two random arrays A anb B check if they are equal"
   ]
  },
  {
   "cell_type": "code",
   "execution_count": 14,
   "metadata": {},
   "outputs": [
    {
     "name": "stdout",
     "output_type": "stream",
     "text": [
      "A\n",
      "[[0.1129349  0.90913879]\n",
      " [0.59359237 0.72831579]]\n",
      "B\n",
      "[[0.96669451 0.66841207]\n",
      " [0.73034859 0.85056979]]\n",
      "\n",
      "A and B Matrix are Not equal\n"
     ]
    }
   ],
   "source": [
    "A = np.random.random((2, 2))\n",
    "B = np.random.random((2, 2))\n",
    "print(\"A\")\n",
    "print(A)\n",
    "print(\"B\")\n",
    "print(B)\n",
    "check_equal = np.allclose(A, B)\n",
    "if check_equal == True:\n",
    "    print(\"\\nA and B Matrix are equal\")\n",
    "else:\n",
    "    print(\"\\nA and B Matrix are Not equal\")"
   ]
  },
  {
   "cell_type": "markdown",
   "metadata": {},
   "source": [
    "## create random vectors of size 10 and replace the maximum value by 0"
   ]
  },
  {
   "cell_type": "code",
   "execution_count": 15,
   "metadata": {},
   "outputs": [
    {
     "name": "stdout",
     "output_type": "stream",
     "text": [
      "Random Matrix\n",
      "[1 2 6 5 1 1 3 3 5 8]\n",
      "After Replacing Max value by 0\n",
      "Maximum value : 8\n",
      "[1 2 6 5 1 1 3 3 5 0]\n"
     ]
    }
   ],
   "source": [
    "mat = np.random.randint(10,size=(10))\n",
    "print(\"Random Matrix\")\n",
    "print(mat)\n",
    "print(\"After Replacing Max value by 0\")\n",
    "print(\"Maximum value :\",np.amax(mat))\n",
    "print(np.where(mat ==np.amax(mat),0,mat))"
   ]
  },
  {
   "cell_type": "markdown",
   "metadata": {},
   "source": [
    "## how to print all the values of array"
   ]
  },
  {
   "cell_type": "code",
   "execution_count": 16,
   "metadata": {},
   "outputs": [
    {
     "name": "stdout",
     "output_type": "stream",
     "text": [
      "[[3 2 6 4]\n",
      " [5 5 1 9]\n",
      " [6 9 8 3]\n",
      " [7 8 6 2]]\n",
      "\\\\ All Values of array //\n",
      "3 2 6 4 5 5 1 9 6 9 8 3 7 8 6 2 "
     ]
    }
   ],
   "source": [
    "arr = np.random.randint(10,size=(4,4))\n",
    "print(arr)\n",
    "print(\"\\\\\\ All Values of array //\")\n",
    "for i in range(0,len(arr)):\n",
    "    for j in range(arr.shape[1]):\n",
    "        print(arr[i][j],end=' ')"
   ]
  },
  {
   "cell_type": "markdown",
   "metadata": {},
   "source": [
    "## subract the mean of each rows of a matrix"
   ]
  },
  {
   "cell_type": "code",
   "execution_count": 17,
   "metadata": {},
   "outputs": [
    {
     "name": "stdout",
     "output_type": "stream",
     "text": [
      "Original matrix:\n",
      "\n",
      "[[7 1]\n",
      " [7 6]]\n",
      "\n",
      "Subtract the mean of each row:\n",
      "\n",
      "[[ 3.  -3. ]\n",
      " [ 0.5 -0.5]]\n"
     ]
    }
   ],
   "source": [
    "print(\"Original matrix:\\n\")\n",
    "mat = np.random.randint(10,size=(2,2))\n",
    "print(mat)\n",
    "print(\"\\nSubtract the mean of each row:\\n\")\n",
    "sub = mat - mat.mean(axis=1, keepdims=True)\n",
    "print(sub)"
   ]
  },
  {
   "cell_type": "markdown",
   "metadata": {},
   "source": [
    "## How to get the diagonal of the dot product"
   ]
  },
  {
   "cell_type": "code",
   "execution_count": 18,
   "metadata": {},
   "outputs": [
    {
     "name": "stdout",
     "output_type": "stream",
     "text": [
      "Dot product Matrix \n",
      "\n",
      "[[22 56 58]\n",
      " [74 46 80]\n",
      " [24 50 53]]\n",
      "\n",
      "Diagonal\n",
      "\n",
      "[22 46 53]\n"
     ]
    }
   ],
   "source": [
    "A = np.random.randint(0,10,(3,3))\n",
    "B= np.random.randint(0,10,(3,3))\n",
    "ab = np.dot(A, B)\n",
    "print(\"Dot product Matrix \\n\")\n",
    "print(ab)\n",
    "print()\n",
    "print(\"Diagonal\\n\")\n",
    "print(np.diag(ab))"
   ]
  },
  {
   "cell_type": "markdown",
   "metadata": {},
   "source": [
    "## how to find the most frequent value in array"
   ]
  },
  {
   "cell_type": "code",
   "execution_count": 30,
   "metadata": {},
   "outputs": [
    {
     "name": "stdout",
     "output_type": "stream",
     "text": [
      "[35  5 15 45  5 82  7 27 56  8 22 37 21 24  7 64 38 53 46 24 41 56 20 44\n",
      " 30 30 67 97  0 54 14 94 10 38 97 49 34 71 49 25 29 80 91 60 48 32 39 63\n",
      "  8 91 93 96  8 29 30 10 76 42 74 29 19 55 57 64  2  9  1 55 81 10 13 66\n",
      " 82 43 61  0 95 98 67 84 55 16 12 34 87 54 49  4 19 69 12 67 22 28 71 87\n",
      " 27 94 28 83]\n",
      "Frequent Number: 8\n"
     ]
    }
   ],
   "source": [
    "m = np.random.randint(0,100,100)\n",
    "print (m)\n",
    "print('Frequent Number:', np.bincount(m).argmax())"
   ]
  },
  {
   "cell_type": "markdown",
   "metadata": {},
   "source": [
    "## How to create a record array from a regular array?¶"
   ]
  },
  {
   "cell_type": "code",
   "execution_count": 32,
   "metadata": {},
   "outputs": [
    {
     "data": {
      "text/plain": [
       "rec.array([(b'python', 2.5, 3), (b'hacker', 3.6, 2)],\n",
       "          dtype=[('col1', 'S8'), ('col2', '<f8'), ('col3', '<i8')])"
      ]
     },
     "execution_count": 32,
     "metadata": {},
     "output_type": "execute_result"
    }
   ],
   "source": [
    "a = np.array([(\"python\", 2.5, 3),\n",
    "              (\"hacker\", 3.6, 2)])\n",
    "b = np.core.records.fromarrays(a.T,\n",
    "                               names='col1, col2, col3',\n",
    "                               formats = 'S8, f8, i8')\n",
    "b"
   ]
  }
 ],
 "metadata": {
  "kernelspec": {
   "display_name": "Python 3",
   "language": "python",
   "name": "python3"
  },
  "language_info": {
   "codemirror_mode": {
    "name": "ipython",
    "version": 3
   },
   "file_extension": ".py",
   "mimetype": "text/x-python",
   "name": "python",
   "nbconvert_exporter": "python",
   "pygments_lexer": "ipython3",
   "version": "3.7.6"
  }
 },
 "nbformat": 4,
 "nbformat_minor": 4
}
